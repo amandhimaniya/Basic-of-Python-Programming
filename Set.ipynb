{
 "cells": [
  {
   "cell_type": "code",
   "execution_count": 3,
   "id": "68484a67",
   "metadata": {},
   "outputs": [
    {
     "name": "stdout",
     "output_type": "stream",
     "text": [
      "{1, 2, 3, 'Aman'} <class 'set'>\n"
     ]
    }
   ],
   "source": [
    "# Write a program to create set and Check it type\n",
    "a={1,2,3,\"Aman\",3}\n",
    "print(a,type(a))"
   ]
  },
  {
   "cell_type": "code",
   "execution_count": 11,
   "id": "50e0a26c",
   "metadata": {},
   "outputs": [
    {
     "name": "stdout",
     "output_type": "stream",
     "text": [
      "{1, 2, 3, 'Pradeep', 'Aman'}\n",
      "1\n",
      "2\n",
      "3\n",
      "Pradeep\n",
      "Aman\n"
     ]
    }
   ],
   "source": [
    "# Write a program to perform iteration on sets\n",
    "b={1,2,3,\"Aman\",3,\"Pradeep\"}\n",
    "print(b)\n",
    "for i in b:\n",
    "    print(i)"
   ]
  },
  {
   "cell_type": "code",
   "execution_count": 22,
   "id": "c218e12e",
   "metadata": {},
   "outputs": [
    {
     "name": "stdout",
     "output_type": "stream",
     "text": [
      "{'Thor', 'Superman', 'Hulk', 'Ironman', 'Captain America'}\n",
      "{'Superman', 'Hulk', 'Ironman', 'Captain America'}\n",
      "{'Hulk', 'Ironman', 'Captain America'}\n",
      "{'Ironman', 'Captain America'}\n",
      "\n"
     ]
    }
   ],
   "source": [
    "# Write a program to perform function on sets\n",
    "\n",
    "c = {\"Ironman\", \"Hulk\", \"Thor\", \"Captain America\"}\n",
    "\n",
    "#add\n",
    "c.add(\"Superman\")\n",
    "print(c)\n",
    "#pop\n",
    "c.pop()    #pop random value____\n",
    "print(c)\n",
    "\n",
    "#remove\n",
    "c.remove(\"Superman\")    #remove particular value\n",
    "print(c)\n",
    "\n",
    "#discard\n",
    "c.discard(\"Hulk\")    #remove particular value\n",
    "print(c)\n",
    "\n",
    "#copy\n",
    "d=c.copy()\n",
    "print()"
   ]
  },
  {
   "cell_type": "code",
   "execution_count": 36,
   "id": "b75bd05a",
   "metadata": {},
   "outputs": [
    {
     "name": "stdout",
     "output_type": "stream",
     "text": [
      "True\n",
      "False\n",
      "False\n",
      "{'Thor', 'Superman', 'Spiderman', 'Hulk', 'Ironman', 'Captain America', 'Batman'}\n",
      "set()\n"
     ]
    }
   ],
   "source": [
    "# Write a program to perform function on sets.\n",
    "a = {\"Ironman\", \"Hulk\", \"Thor\", \"Captain America\", \"Spiderman\",\"Superman\"}\n",
    "b = {\"Ironman\", \"Hulk\", \"Thor\", \"Captain America\",\"Batman\"}\n",
    "c = {\"Saktiman\",\"Power Ranger\"}\n",
    "\n",
    "#isdisjoint\n",
    "d=a.isdisjoint(c)\n",
    "print(d)\n",
    "\n",
    "#issubset\n",
    "e=b.issubset(a)\n",
    "print(e)\n",
    "\n",
    "#issuperset\n",
    "f=a.issuperset(b)\n",
    "print(f)\n",
    "\n",
    "#update\n",
    "a.update(b)\n",
    "print(a)\n",
    "\n",
    "#clear\n",
    "a.clear()\n",
    "print(a)"
   ]
  },
  {
   "cell_type": "code",
   "execution_count": 46,
   "id": "36129541",
   "metadata": {},
   "outputs": [
    {
     "name": "stdout",
     "output_type": "stream",
     "text": [
      "{'Hulk', 'Ironman', 'Captain America', 'Thor', 'Batman', 'Wonder-Woman', 'Superman'}\n",
      "{'Superman', 'Wonder-Woman', 'Batman'}\n",
      "{'Batman', 'Wonder-Woman', 'Superman'}\n",
      "{'Hulk', 'Thor'}\n",
      "{'Hulk', 'Thor'}\n",
      "{'Spiderman'}\n",
      "{'Spiderman'}\n"
     ]
    }
   ],
   "source": [
    "# Write a program to perform function on sets.\n",
    "a = {\"Ironman\", \"Hulk\", \"Thor\", \"Captain America\"}\n",
    "\n",
    "b = {\"Superman\", \"Batman\", \"Wonder-Woman\"}\n",
    "\n",
    "c = {\"Hulk\", \"Thor\", \"Spiderman\"}\n",
    "\n",
    "#Union\n",
    "d=a.union(b)\n",
    "print(d)\n",
    "\n",
    "#Difference\n",
    "e=b.difference(c)\n",
    "print(e)\n",
    "\n",
    "#Difference update\n",
    "b.difference_update(c)\n",
    "print(b)\n",
    "\n",
    "#Intersection\n",
    "f=a.intersection(c)\n",
    "print(f)\n",
    "\n",
    "#Intersection Update\n",
    "a.intersection_update(c)\n",
    "print(a)\n",
    "\n",
    "#Symmetric Difference\n",
    "g=a.symmetric_difference(c)\n",
    "print(g)\n",
    "\n",
    "#Symmetric Difference Update\n",
    "a.symmetric_difference_update(c)\n",
    "print(a)"
   ]
  },
  {
   "cell_type": "code",
   "execution_count": 51,
   "id": "fec38ce2",
   "metadata": {},
   "outputs": [
    {
     "name": "stdout",
     "output_type": "stream",
     "text": [
      "1\n",
      "2\n",
      "3\n",
      "4\n",
      "5\n",
      "6\n",
      "7\n",
      "8\n",
      "9\n",
      "\n",
      "The minimum of the fiven set is :- 1\n",
      "The maximum of the fiven set is :- 9\n"
     ]
    }
   ],
   "source": [
    "# 1. Write a program to find max and min in a set.\n",
    "a={1,2,4,3,9,8,6,7,5}\n",
    "for i in a:\n",
    "    print(i)\n",
    "print(\"\")\n",
    "    \n",
    "minimum=min(a)\n",
    "maximum=max(a)\n",
    "print(\"The minimum of the fiven set is :-\",minimum)\n",
    "print(\"The maximum of the fiven set is :-\",maximum)"
   ]
  },
  {
   "cell_type": "code",
   "execution_count": 61,
   "id": "feb5eaf2",
   "metadata": {},
   "outputs": [
    {
     "name": "stdout",
     "output_type": "stream",
     "text": [
      "The common element by (using Intersection method) {4, 5}\n",
      "The common element of given set are {4, 5}\n"
     ]
    }
   ],
   "source": [
    "# 2. Write a program to find common elements in three lists using sets.\n",
    "a = [1,2,3,4,5]\n",
    "b = [4,5,6,7,8]\n",
    "c = [4,6,5,10,1]\n",
    "\n",
    "a=set(a)\n",
    "b=set(b)\n",
    "c=set(c)\n",
    "\n",
    "d=a.intersection(c,b)\n",
    "print(\"The common element by (using Intersection method)\",d)\n",
    "\n",
    "print(\"The common element of given set are\", set(a)&set(b)&set(c))"
   ]
  },
  {
   "cell_type": "code",
   "execution_count": 63,
   "id": "2427efba",
   "metadata": {},
   "outputs": [
    {
     "name": "stdout",
     "output_type": "stream",
     "text": [
      "{4, 5}\n"
     ]
    }
   ],
   "source": [
    "# 3. Write a program to find difference between two sets.\n",
    "a = {1,2,3,4,5}\n",
    "b = {4,5,6,7,8}\n",
    "\n",
    "c=a.difference(b)\n",
    "print(d)"
   ]
  },
  {
   "cell_type": "code",
   "execution_count": 69,
   "id": "4facb296",
   "metadata": {},
   "outputs": [
    {
     "name": "stdout",
     "output_type": "stream",
     "text": [
      "{1, 2, 3, 4}\n"
     ]
    }
   ],
   "source": [
    "# 4. Write a Python program to remove an item from a set if it is present in the set.\n",
    "a = {1,2,3,4,5}\n",
    "a.discard(5)\n",
    "print(a)"
   ]
  },
  {
   "cell_type": "code",
   "execution_count": 71,
   "id": "73538218",
   "metadata": {},
   "outputs": [
    {
     "name": "stdout",
     "output_type": "stream",
     "text": [
      "False\n"
     ]
    }
   ],
   "source": [
    "# 5. Write a Python program to check if a set is a subset of another set.\n",
    "a = {\"Ironman\", \"Hulk\", \"Thor\", \"Captain America\", \"Spiderman\",\"Superman\"}\n",
    "b = {\"Ironman\", \"Hulk\", \"Thor\", \"Captain America\",\"Batman\"}\n",
    "\n",
    "c=a.issubset(b)\n",
    "print(c)"
   ]
  }
 ],
 "metadata": {
  "kernelspec": {
   "display_name": "Python 3 (ipykernel)",
   "language": "python",
   "name": "python3"
  },
  "language_info": {
   "codemirror_mode": {
    "name": "ipython",
    "version": 3
   },
   "file_extension": ".py",
   "mimetype": "text/x-python",
   "name": "python",
   "nbconvert_exporter": "python",
   "pygments_lexer": "ipython3",
   "version": "3.11.5"
  }
 },
 "nbformat": 4,
 "nbformat_minor": 5
}
