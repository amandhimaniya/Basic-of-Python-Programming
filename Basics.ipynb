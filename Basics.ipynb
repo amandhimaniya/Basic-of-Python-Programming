{
 "cells": [
  {
   "cell_type": "code",
   "execution_count": null,
   "id": "b9bc6d93",
   "metadata": {},
   "outputs": [],
   "source": [
    "# Write a program to Print \"Hello World\"\n",
    "print(\"Hello World\")"
   ]
  },
  {
   "cell_type": "code",
   "execution_count": null,
   "id": "7028f502",
   "metadata": {},
   "outputs": [],
   "source": [
    "# Write a program to Print Multiple Line String\n",
    "print('''Hello Aman Kumar\n",
    "How are You ??''')"
   ]
  },
  {
   "cell_type": "code",
   "execution_count": null,
   "id": "4a8beebb",
   "metadata": {},
   "outputs": [],
   "source": [
    "# Write a program to Print Parahgraph using Double Quote\n",
    "print(\"Hello, My name is Aman Kumar\\n I am pursuing my Btech from Gurugram University\")"
   ]
  },
  {
   "cell_type": "code",
   "execution_count": null,
   "id": "d460fc98",
   "metadata": {},
   "outputs": [],
   "source": [
    "# Write a program to Understand concept of variable.\n",
    "a=5\n",
    "b=\"Hello Aman\"\n",
    "print(a)\n",
    "print(b)"
   ]
  },
  {
   "cell_type": "code",
   "execution_count": null,
   "id": "10cee348",
   "metadata": {},
   "outputs": [],
   "source": [
    "# Write a program to Show the all type of data.\n",
    "a=1\n",
    "b=2.2\n",
    "c=[a,b,4]\n",
    "d={2,3,4,5}\n",
    "e=True\n",
    "f='c'\n",
    "g={1,2,'g','j'}\n",
    "\n",
    "print(type(a))\n",
    "print(type(b))\n",
    "print(type(c))\n",
    "print(type(d))\n",
    "print(type(e))\n",
    "print(type(f))\n",
    "print(type(g))"
   ]
  },
  {
   "cell_type": "code",
   "execution_count": null,
   "id": "f0ee54fd",
   "metadata": {},
   "outputs": [],
   "source": [
    "# Write a program to Input by User\n",
    "a=input(\"Enter your Name\")\n",
    "b=int(input(\"Enter your Age\"))  #we can also use float double and so on......\n",
    "c=eval(input(\"Enter Expression\"))\n",
    "print(a)\n",
    "print(type(a))\n",
    "print(b)\n",
    "print(type(b))\n",
    "print(c)\n",
    "print(type(c))"
   ]
  },
  {
   "cell_type": "code",
   "execution_count": null,
   "id": "b7e9a083",
   "metadata": {},
   "outputs": [],
   "source": [
    "''' Write a program to Type Conversion\n",
    "Their are Two Type of Type Casting\n",
    "1. Implicit TypeCasting\n",
    "2. Explicit TypeCasting'''\n",
    "\n",
    "#Implicit TypeCasting\n",
    "a=122\n",
    "b=1.22\n",
    "c=a+b\n",
    "print(type(a))\n",
    "print(type(b))\n",
    "print(c)\n",
    "print(type(c))\n",
    "\n",
    "#Explicit TypeCasting\n",
    "a=str(a)\n",
    "print(a)\n",
    "print(type(a))\n",
    "\n",
    "d=\"1234\"\n",
    "d=int(d)\n",
    "print(type(d))"
   ]
  },
  {
   "cell_type": "code",
   "execution_count": null,
   "id": "792772e1",
   "metadata": {},
   "outputs": [],
   "source": [
    "\n",
    "# 1. Write a program to display a person's name, age and address in three different lines.\n",
    "\n",
    "a= str(input(\"Enter Your Name\"))\n",
    "b= int(input(\"Enter Your Age\"))\n",
    "c= str(input(\"Enter Your Address\"))\n",
    "print(a)\n",
    "print(b)\n",
    "print(c)"
   ]
  },
  {
   "cell_type": "code",
   "execution_count": null,
   "id": "0617f3ff",
   "metadata": {},
   "outputs": [],
   "source": [
    "# 2. Write a program to swap two variables by using temprary variable.\n",
    "d=2\n",
    "e=3\n",
    "temp=d\n",
    "d=e\n",
    "b=temp\n",
    "print(d)\n",
    "print(e)"
   ]
  },
  {
   "cell_type": "code",
   "execution_count": null,
   "id": "a3915ee5",
   "metadata": {},
   "outputs": [],
   "source": [
    "# 3. Write a program to convert a float into integer.\n",
    "f=123.7\n",
    "print(type(f))\n",
    "print(f)\n",
    "f=int(f)\n",
    "print(type(f))\n",
    "print(f)"
   ]
  },
  {
   "cell_type": "code",
   "execution_count": null,
   "id": "46e5b93c",
   "metadata": {},
   "outputs": [],
   "source": [
    "# 4. Write a program to take details from a student for ID-card and then print it in different lines.\n",
    "g= str(input(\"Enter Your Name\"))\n",
    "h= int(input(\"Enter Your Age\"))\n",
    "i= str(input(\"Enter Your Address\"))\n",
    "j= int(input(\"Enter Your Contact\"))\n",
    "k= str(input(\"Enter Your Depatment\"))\n",
    "l= str(input(\"Enter Your Email\"))\n",
    "print(g)\n",
    "print(h)\n",
    "print(i)\n",
    "print(j)\n",
    "print(k)\n",
    "print(l)"
   ]
  },
  {
   "cell_type": "code",
   "execution_count": null,
   "id": "7b29a0e8",
   "metadata": {},
   "outputs": [],
   "source": [
    "# 5. Write a program to take an user input as integer then convert float.\n",
    "m = int(input(\"Enter Integer Value\"))\n",
    "print(m)\n",
    "m=float(m)\n",
    "print(m)\n",
    "print(type(m))"
   ]
  },
  {
   "cell_type": "code",
   "execution_count": 37,
   "id": "3bf2bb52",
   "metadata": {},
   "outputs": [
    {
     "name": "stdout",
     "output_type": "stream",
     "text": [
      "12\n",
      "8\n",
      "20\n",
      "5.0\n",
      "0\n",
      "100\n",
      "5\n"
     ]
    }
   ],
   "source": [
    "#  Arithmetic operators\n",
    "a= 10\n",
    "b=2\n",
    "\n",
    "# 1. Addition\n",
    "print(a+b)\n",
    "\n",
    "# 2. Subtraction\n",
    "print(a-b)\n",
    "\n",
    "# 3. Multiplication\n",
    "print(a*b)\n",
    "\n",
    "# 4. Division\n",
    "print(a/b)\n",
    "\n",
    "# 5. Modulus\n",
    "print(a%b)\n",
    "\n",
    "# 6. Exponential\n",
    "print(a**b)\n",
    "\n",
    "# 7. Floor Divison (rounds the result down to the nearest whole number)\n",
    "print(a//b)"
   ]
  },
  {
   "cell_type": "code",
   "execution_count": null,
   "id": "1d33588c",
   "metadata": {},
   "outputs": [],
   "source": [
    "#  Comparison Operators\n",
    "c= 10\n",
    "d = 3\n",
    "# 1. Equal\n",
    "print(c==d)\n",
    "\n",
    "# 2. Not Equal\n",
    "print(c!=d)\n",
    "\n",
    "# 3. Greator Than\n",
    "print(c>d)\n",
    "\n",
    "# 4. Less Than\n",
    "print(c<d)\n",
    "\n",
    "# 5. Greator than Equal\n",
    "print(c>=d)\n",
    "\n",
    "# 6. Less than Equal\n",
    "print(c<=d)\n"
   ]
  },
  {
   "cell_type": "code",
   "execution_count": null,
   "id": "3fa4fe2e",
   "metadata": {},
   "outputs": [],
   "source": [
    "#  Logical Operators\n",
    "e=12\n",
    "f=4\n",
    "# 1. Returns True if both statements are true\n",
    "print(e>=10 and f>=4)\n",
    "\n",
    "# 2. Returns True if one of the statements is true\n",
    "print(e>10 and f>=4)\n",
    "\n",
    "# 3. Reverse the result, returns False if the result is true\n",
    "print(not(e < 5 and f < 10))\n"
   ]
  },
  {
   "cell_type": "code",
   "execution_count": null,
   "id": "c631eabb",
   "metadata": {},
   "outputs": [],
   "source": [
    "#  Assignment Operators\n",
    "'''\n",
    "(a=10)\n",
    "(a+=2)\n",
    "(a-=2)\n",
    "(a*=2)\n",
    "(a/=2)\n",
    "(a%=2)\n",
    "(a**=2)\n",
    "(a//=2)\n",
    "(a&=2)\n",
    "(a|=2)\n",
    "(a^=2)\n",
    "(a>>=2)\n",
    "(a<<=2)\n",
    "'''"
   ]
  },
  {
   "cell_type": "code",
   "execution_count": null,
   "id": "33f5cef6",
   "metadata": {},
   "outputs": [],
   "source": [
    "#  Identity Operators\n",
    "\n",
    "g = \"aman\"\n",
    "h = \"Aman\"\n",
    "\n",
    "# 1. Returns True if both variables are the same object\n",
    "print(g is h)\n",
    "\n",
    "# 2. Returns True if both variables are not the same object\n",
    "print(g is not h)"
   ]
  },
  {
   "cell_type": "code",
   "execution_count": null,
   "id": "b91b2c47",
   "metadata": {},
   "outputs": [],
   "source": [
    "#  Membership Operators\n",
    "j=[\"Aman\", 'a',3,\"Tanya\"]\n",
    "\n",
    "# 1. Returns True if a sequence with the specified value is present in the object\n",
    "print('a' in j)\n",
    "\n",
    "\n",
    "# 2. Returns True if a sequence with the specified value is not present in the object\n",
    "print('a' not in j)\n"
   ]
  },
  {
   "cell_type": "code",
   "execution_count": null,
   "id": "468d7698",
   "metadata": {},
   "outputs": [],
   "source": [
    "#  Bitwise Operators"
   ]
  },
  {
   "cell_type": "code",
   "execution_count": 2,
   "id": "745d647e",
   "metadata": {},
   "outputs": [
    {
     "name": "stdout",
     "output_type": "stream",
     "text": [
      "Congratulation You have been Topped in this Semester\n",
      "Happy\n"
     ]
    }
   ],
   "source": [
    "# Condition statement - if Statement\n",
    "\n",
    "marks=100\n",
    "if marks>=99:\n",
    "    print(\"Congratulation You have been Topped in this Semester\")\n",
    "print(\"Happy\")"
   ]
  },
  {
   "cell_type": "code",
   "execution_count": 32,
   "id": "bc8ae1a8",
   "metadata": {},
   "outputs": [
    {
     "name": "stdout",
     "output_type": "stream",
     "text": [
      "Amount400\n",
      "Transaction Succusful 400\n",
      "Thanks for using Atm\n"
     ]
    }
   ],
   "source": [
    "# Condition statement - if Else Statement\n",
    "\n",
    "a = int(input(\"Amount\"))\n",
    "b=3000\n",
    "if a>b:\n",
    "    print(\"Transaction failed\")\n",
    "else:\n",
    "    print(\"Transaction Succusful\",a)\n",
    "\n",
    "print(\"Thanks for using Atm\")"
   ]
  },
  {
   "cell_type": "code",
   "execution_count": 19,
   "id": "f2c1e0b8",
   "metadata": {},
   "outputs": [
    {
     "name": "stdout",
     "output_type": "stream",
     "text": [
      "Enter the Marks30\n",
      "Fail\n"
     ]
    }
   ],
   "source": [
    "# Condition statement - if-elif-else Statement\n",
    "marks = int(input(\"Enter the Marks\"))\n",
    "if marks>=90 and marks<=100 :\n",
    "    print(\"First division\")\n",
    "elif marks>=70 and marks<=90 :\n",
    "    print(\"Second Division\")\n",
    "elif marks>=40 and marks<70 :\n",
    "    print(\"Third Division\")\n",
    "else :\n",
    "    print(\"Fail\")\n"
   ]
  },
  {
   "cell_type": "code",
   "execution_count": 29,
   "id": "4fcd9ad7",
   "metadata": {},
   "outputs": [
    {
     "name": "stdout",
     "output_type": "stream",
     "text": [
      "Enter the Marks30\n",
      "Enter the attempted2\n",
      "You have another chance of attempted\n"
     ]
    }
   ],
   "source": [
    "# Condition statement - Nested-if Statement\n",
    "marks = int(input(\"Enter the Marks\"))\n",
    "chance = int(input(\"Enter the attempted\"))\n",
    "if marks<=40 :\n",
    "    if chance<= 0 :\n",
    "        print(\"Degree failed\")\n",
    "    else :\n",
    "        print(\"You have another chance of attempted\")\n",
    "else :\n",
    "    print(\"Degree passed\")\n"
   ]
  },
  {
   "cell_type": "code",
   "execution_count": 30,
   "id": "7cfe2a6e",
   "metadata": {},
   "outputs": [
    {
     "name": "stdout",
     "output_type": "stream",
     "text": [
      "I am Happy\n"
     ]
    }
   ],
   "source": [
    "# Condition statement - Shorthand if Statement\n",
    "a=10\n",
    "if a<=20 : print(\"I am Happy\")"
   ]
  },
  {
   "cell_type": "code",
   "execution_count": 36,
   "id": "1b1979dd",
   "metadata": {},
   "outputs": [
    {
     "data": {
      "text/plain": [
       "'I am sad'"
      ]
     },
     "execution_count": 36,
     "metadata": {},
     "output_type": "execute_result"
    }
   ],
   "source": [
    "a=50\n",
    "print(\"I am Happy\")if a<=20 else(\"I am sad\")"
   ]
  },
  {
   "cell_type": "code",
   "execution_count": 49,
   "id": "30acc50c",
   "metadata": {},
   "outputs": [
    {
     "name": "stdout",
     "output_type": "stream",
     "text": [
      "Enter a Number.4\n",
      "Positive number\n"
     ]
    }
   ],
   "source": [
    "# 1. Write a program to check if a number is positive.\n",
    "a = int(input(\"Enter a Number.\"))\n",
    "if a>=0:\n",
    "    print(\"Positive number\")\n",
    "else:\n",
    "    print(\"Negative Number\")"
   ]
  },
  {
   "cell_type": "code",
   "execution_count": 53,
   "id": "6945ad1a",
   "metadata": {},
   "outputs": [
    {
     "name": "stdout",
     "output_type": "stream",
     "text": [
      "Enter a Number.5\n",
      "5 is Odd number\n"
     ]
    }
   ],
   "source": [
    "# 2. Write a program to check whether a number is odd or even.\n",
    "num = int(input(\"Enter a Number.\"))\n",
    "if num%2==0:\n",
    "    print(num,\" is Even Number\")\n",
    "else:\n",
    "    print(num,\"is Odd number\")"
   ]
  },
  {
   "cell_type": "code",
   "execution_count": 58,
   "id": "36ad9d28",
   "metadata": {},
   "outputs": [
    {
     "name": "stdout",
     "output_type": "stream",
     "text": [
      "For Area of Triangle Press 1\n",
      "For Area of Square Press 2\n",
      "For Area of Rectangle Press 3\n",
      "For Area of Circle Press 4\n",
      "Enter the Shape which you want4\n",
      "Enter the Radius of square3\n",
      "28.285714285714285\n"
     ]
    }
   ],
   "source": [
    "# 3. Write a program to create area calculator.\n",
    "print(\"For Area of Triangle Press 1\")\n",
    "print(\"For Area of Square Press 2\")\n",
    "print(\"For Area of Rectangle Press 3\")\n",
    "print(\"For Area of Circle Press 4\")\n",
    "\n",
    "choice=int(input(\"Enter the Shape which you want\"))\n",
    "if choice==1 :\n",
    "    Base=int(input(\"Enter the Base value\"))\n",
    "    Height=int(input(\"Enter the Height value\"))\n",
    "    Area_of_Triangle = (1/2)*Base*Height\n",
    "    print(Area_of_Triangle)\n",
    "elif choice==2 :\n",
    "    Side=int(input(\"Enter the side of square\"))\n",
    "    Area_of_Square = Side*Side \n",
    "    print(Area_of_Square)\n",
    "elif choice==3 :\n",
    "    Length=int(input(\"Enter the Length value\"))\n",
    "    Breadth=int(input(\"Enter the Breadth value\"))\n",
    "    Area_of_Rectangle = Length*Breadth\n",
    "    print(Area_of_Rectangle)\n",
    "else :\n",
    "    Radius=int(input(\"Enter the Radius of Circle\"))\n",
    "    Area_of_Circle=(22/7)*Radius*Radius\n",
    "    print(Area_of_Circle)"
   ]
  },
  {
   "cell_type": "code",
   "execution_count": 63,
   "id": "3b97babf",
   "metadata": {},
   "outputs": [
    {
     "name": "stdout",
     "output_type": "stream",
     "text": [
      "Enter the Character valuee\n",
      "Given character is vowels\n"
     ]
    }
   ],
   "source": [
    "# 4. Write a program check whether the passed letter is a vowel or not.\n",
    "Vowels=['a','e','i','o','u']\n",
    "Alphabet = str(input(\"Enter the Character value\"))\n",
    "if Alphabet in Vowels :\n",
    "    print(\"Given character is vowels\")\n",
    "else :\n",
    "    print(\"Given character is consonent \")"
   ]
  },
  {
   "cell_type": "code",
   "execution_count": 66,
   "id": "479b26af",
   "metadata": {},
   "outputs": [
    {
     "name": "stdout",
     "output_type": "stream",
     "text": [
      "Enter the Number2000000\n",
      "2000000 is Seven Digit Number\n"
     ]
    }
   ],
   "source": [
    "#5. Write a program to check if a number is a single digit number,2- digit number and so on.., up to 5 digits.\n",
    "Num = int(input(\"Enter the Number\"))\n",
    "if Num>=0 and Num<=9 :\n",
    "    print(Num,\"is one Digit Number\")\n",
    "elif Num>=10 and Num<=99 :\n",
    "    print(Num,\"is Two Digit Number\")\n",
    "elif Num>=100 and Num<=999 :\n",
    "    print(Num,\"is Three Digit Number\")\n",
    "elif Num>=1000 and Num<=9999 :\n",
    "    print(Num,\"is Four Digit Number\")\n",
    "elif Num>=10000 and Num<=99999 :\n",
    "    print(Num,\"is Five Digit Number\")\n",
    "elif Num>=100000 and Num<=999999 :\n",
    "    print(Num,\"is Six Digit Number\")\n",
    "elif Num>=1000000 and Num<=99999999 :\n",
    "    print(Num,\"is Seven Digit Number\")"
   ]
  }
 ],
 "metadata": {
  "kernelspec": {
   "display_name": "Python 3 (ipykernel)",
   "language": "python",
   "name": "python3"
  },
  "language_info": {
   "codemirror_mode": {
    "name": "ipython",
    "version": 3
   },
   "file_extension": ".py",
   "mimetype": "text/x-python",
   "name": "python",
   "nbconvert_exporter": "python",
   "pygments_lexer": "ipython3",
   "version": "3.11.5"
  }
 },
 "nbformat": 4,
 "nbformat_minor": 5
}
