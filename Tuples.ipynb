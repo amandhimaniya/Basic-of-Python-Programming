{
 "cells": [
  {
   "cell_type": "code",
   "execution_count": 5,
   "id": "e1e90cab",
   "metadata": {},
   "outputs": [
    {
     "name": "stdout",
     "output_type": "stream",
     "text": [
      "('Aman', 'Mohit', 'Pradeep', 'Tushar', 'Mayank', 'Vinit', 'Himanshu', 1, 2, 3, 4, 5, 6, 7)\n",
      "<class 'tuple'>\n",
      "<class 'str'>\n",
      "<class 'tuple'>\n"
     ]
    }
   ],
   "source": [
    "# Write a program to create a tuple\n",
    "a = \"Aman\",\"Mohit\",\"Pradeep\",\"Tushar\",\"Mayank\",\"Vinit\",\"Himanshu\",1,2,3,4,5,6,7\n",
    "print(a)\n",
    "print(type(a))\n",
    "\n",
    "b=(\"Happy\")\n",
    "print(type(b))    #when we check the type with single element it show str\n",
    "\n",
    "c=(\"Happy Singh\",)\n",
    "print(type(c))        #Thatswhy use use commas when we have single element in tuples"
   ]
  },
  {
   "cell_type": "code",
   "execution_count": 12,
   "id": "e326db98",
   "metadata": {},
   "outputs": [
    {
     "name": "stdout",
     "output_type": "stream",
     "text": [
      "Aman\n",
      "('Aman', 'Mohit', 'Pradeep', 'Tushar')\n",
      "(7, 6, 5, 4, 3, 2, 1, 'Himanshu', 'Vinit', 'Mayank', 'Tushar', 'Pradeep', 'Mohit', 'Aman')\n"
     ]
    }
   ],
   "source": [
    "# Write a program to perform slicing in tuples\n",
    "\n",
    "b = \"Aman\",\"Mohit\",\"Pradeep\",\"Tushar\",\"Mayank\",\"Vinit\",\"Himanshu\",1,2,3,4,5,6,7\n",
    "print(b[0])   # it means it slice the element of 0 index\n",
    "print(b[0:4]) # it means it slice the tuple in between indexno 0 to 4\n",
    "print(b[::-1]) # it reverse the complete tuples"
   ]
  },
  {
   "cell_type": "code",
   "execution_count": 25,
   "id": "ed52300c",
   "metadata": {},
   "outputs": [
    {
     "name": "stdout",
     "output_type": "stream",
     "text": [
      "Aman\n",
      "Mohit\n",
      "Pradeep\n",
      "Tushar\n",
      "Mayank\n",
      "Vinit\n",
      "Himanshu\n",
      "10\n",
      "20\n",
      "30\n",
      "40\n",
      "50\n",
      "60\n",
      "70\n",
      "80\n",
      "90\n",
      "100\n",
      "Aman\n",
      "Mohit\n",
      "Pradeep\n",
      "Tushar\n",
      "Mayank\n",
      "Vinit\n",
      "Himanshu\n",
      "10\n",
      "20\n",
      "30\n",
      "40\n",
      "50\n",
      "60\n",
      "70\n",
      "80\n",
      "90\n",
      "100\n",
      "Aman\n",
      "Mohit\n",
      "Pradeep\n",
      "Tushar\n",
      "Mayank\n",
      "Vinit\n",
      "Himanshu\n",
      "10\n",
      "20\n",
      "30\n",
      "40\n",
      "50\n",
      "60\n",
      "70\n",
      "80\n",
      "90\n",
      "100\n",
      "Aman\n",
      "Mohit\n",
      "Pradeep\n",
      "Tushar\n",
      "Mayank\n",
      "Vinit\n",
      "Himanshu\n",
      "10\n",
      "20\n",
      "30\n",
      "40\n",
      "50\n",
      "60\n",
      "70\n",
      "80\n",
      "90\n",
      "100\n"
     ]
    },
    {
     "data": {
      "text/plain": [
       "[None,\n",
       " None,\n",
       " None,\n",
       " None,\n",
       " None,\n",
       " None,\n",
       " None,\n",
       " None,\n",
       " None,\n",
       " None,\n",
       " None,\n",
       " None,\n",
       " None,\n",
       " None,\n",
       " None,\n",
       " None,\n",
       " None]"
      ]
     },
     "execution_count": 25,
     "metadata": {},
     "output_type": "execute_result"
    }
   ],
   "source": [
    "# Write a program to perform iteration in tuples\n",
    "c = (\"Aman\",\"Mohit\",\"Pradeep\",\"Tushar\",\"Mayank\",\"Vinit\",\"Himanshu\",10,20,30,40,50,60,70,80,90,100)\n",
    "# With for loop\n",
    "for i in c:\n",
    "    print(i)\n",
    "    \n",
    "# Along with range and length in for loop\n",
    "for i in range (len(c)):\n",
    "    print(c[i])\n",
    "    \n",
    "# Along with While loop\n",
    "i=0\n",
    "while(i<len(c)):\n",
    "    print(c[i])\n",
    "    i+=1\n",
    "    \n",
    "#using sorthand loop\n",
    "[print(i) for i in c]"
   ]
  },
  {
   "cell_type": "code",
   "execution_count": 33,
   "id": "b08873a3",
   "metadata": {},
   "outputs": [
    {
     "name": "stdout",
     "output_type": "stream",
     "text": [
      "Before conversion <class 'tuple'>\n",
      "After conversion <class 'list'>\n",
      "('Aman', 'Tanya', 'Mohit', 'Pradeep', 'Tushar', 'Mayank', 'Vinit', 'Himanshu', 'Dhoni')\n",
      "<class 'tuple'>\n"
     ]
    }
   ],
   "source": [
    "# Write a program to conversion of tuples.\n",
    "d = (\"Aman\",\"Mohit\",\"Pradeep\",\"Tushar\",\"Mayank\",\"Vinit\",\"Himanshu\")\n",
    "print(\"Before conversion\",type(d))\n",
    "d=list(d)\n",
    "print(\"After conversion\",type(d))    # After converting it into list we can use every list function and method\n",
    "                                  # for example#\n",
    "d.append(\"Dhoni\")\n",
    "d.insert(1,\"Tanya\")\n",
    "d=tuple(d)\n",
    "\n",
    "print(d)\n",
    "print(type(d))\n"
   ]
  },
  {
   "cell_type": "code",
   "execution_count": 6,
   "id": "64ee026e",
   "metadata": {},
   "outputs": [
    {
     "name": "stdout",
     "output_type": "stream",
     "text": [
      "2\n",
      "1\n"
     ]
    }
   ],
   "source": [
    "# Write a program to describe the function of tuples\n",
    "e = (\"Aman\",\"Mohit\",\"Pradeep\",\"Tushar\",\"Mayank\",\"Vinit\",\"Himanshu\",\"Aman\")\n",
    "print(e.count(\"Aman\"))\n",
    "print(e.index(\"Mohit\"))\n",
    "\n"
   ]
  }
 ],
 "metadata": {
  "kernelspec": {
   "display_name": "Python 3 (ipykernel)",
   "language": "python",
   "name": "python3"
  },
  "language_info": {
   "codemirror_mode": {
    "name": "ipython",
    "version": 3
   },
   "file_extension": ".py",
   "mimetype": "text/x-python",
   "name": "python",
   "nbconvert_exporter": "python",
   "pygments_lexer": "ipython3",
   "version": "3.11.5"
  }
 },
 "nbformat": 4,
 "nbformat_minor": 5
}
