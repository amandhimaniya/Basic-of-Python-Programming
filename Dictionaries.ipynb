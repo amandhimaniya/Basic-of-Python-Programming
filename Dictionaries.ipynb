{
 "cells": [
  {
   "cell_type": "code",
   "execution_count": 15,
   "id": "02356a8c",
   "metadata": {},
   "outputs": [
    {
     "name": "stdout",
     "output_type": "stream",
     "text": [
      "<class 'dict'> {'Name': 'Aman Kumar', 'Email': 'amanparjapati08@gmail.com'}\n",
      "amanparjapati08@gmail.com\n",
      "Tanya Gupta\n"
     ]
    }
   ],
   "source": [
    "# Write a program to create Dictionary and Check it type\n",
    "College_1={\"Name\":\"Aman Kumar\",\"Email\":\"amanparjapati08@gmail.com\"}\n",
    "College_2={\"Name\":\"Tanya Gupta\",\"Email\":\"tanyagupta08@gmail.com\"}\n",
    "print(type(College),College)\n",
    "print(College[\"Email\"])\n",
    "print(College_2[\"Name\"])"
   ]
  },
  {
   "cell_type": "code",
   "execution_count": 23,
   "id": "ea89534b",
   "metadata": {},
   "outputs": [
    {
     "name": "stdout",
     "output_type": "stream",
     "text": [
      "Name\n",
      "Class\n",
      "Roll_no\n",
      "Aman\n",
      "11th\n",
      "25\n",
      "Aman\n",
      "11th\n",
      "25\n",
      "Name - Aman\n",
      "Class - 11th\n",
      "Roll_no - 25\n"
     ]
    }
   ],
   "source": [
    "# Write a program to perform iteration on dictionary\n",
    "#Iteration in Dictionaries\n",
    "\n",
    "Student={\"Name\":\"Aman\",\"Class\":\"11th\",\"Roll_no\":25}\n",
    "\n",
    "#printing all the key names one by one\n",
    "for i in Student:\n",
    "    print(i)\n",
    "\n",
    "#printing all the value names one by one\n",
    "for x in Student:\n",
    "    print(Student[x])\n",
    "\n",
    "#using value function\n",
    "for y in Student.values():\n",
    "    print(y)\n",
    "    \n",
    "# Using item function\n",
    "for m,n in Student.items():\n",
    "    print(m,\"-\",n)"
   ]
  },
  {
   "cell_type": "code",
   "execution_count": 31,
   "id": "1d82384f",
   "metadata": {},
   "outputs": [
    {
     "name": "stdout",
     "output_type": "stream",
     "text": [
      "John\n",
      "dict_items([('name', 'John'), ('class', '6th'), ('roll_no', 23)])\n",
      "dict_keys(['name', 'class', 'roll_no'])\n",
      "dict_values(['John', '6th', 23])\n",
      "{'name': 'John', 'class': '6th', 'roll_no': 23}\n"
     ]
    }
   ],
   "source": [
    "# Write a program to perform function on dictionary\n",
    "\n",
    "Student={\"name\":\"John\",\"class\":\"6th\",\"roll_no\":23}\n",
    "#get\n",
    "print(Student.get(\"name\"))\n",
    "#item\n",
    "print(Student.items())\n",
    "#keys\n",
    "print(Student.keys())\n",
    "#values\n",
    "print(Student.values())\n",
    "#copy\n",
    "Emp=Student.copy()\n",
    "print(Emp)"
   ]
  },
  {
   "cell_type": "code",
   "execution_count": 46,
   "id": "fd9cda1d",
   "metadata": {},
   "outputs": [
    {
     "name": "stdout",
     "output_type": "stream",
     "text": [
      "23\n",
      "{'name': 'John', 'class': '6th', 'roll_no': 23, 'Phone No': '89xxxxx900'}\n",
      "{'name': 'John', 'class': '6th', 'roll_no': 23}\n",
      "{'name': 'John', 'class': '6th'}\n",
      "{'name': 'John'}\n",
      "{}\n"
     ]
    }
   ],
   "source": [
    "# Write a program to perform Function on dictionary\n",
    "\n",
    "Student={\"name\":\"John\",\"class\":\"6th\",\"roll_no\":23}\n",
    "\n",
    "#setdefault\n",
    "X=Student.setdefault(\"roll_no\",25)\n",
    "print(X)\n",
    "\n",
    "#update\n",
    "Student.update({\"Phone No\" : \"89xxxxx900\"})\n",
    "print(Student)\n",
    "\n",
    "#pop\n",
    "Student.pop(\"Phone No\")\n",
    "print(Student)\n",
    "\n",
    "#popitem\n",
    "Student.popitem()\n",
    "print(Student)\n",
    "Student.popitem()\n",
    "print(Student)\n",
    "\n",
    "#clear\n",
    "Student.clear()\n",
    "print(Student)"
   ]
  },
  {
   "cell_type": "code",
   "execution_count": 49,
   "id": "7fec9673",
   "metadata": {
    "scrolled": true
   },
   "outputs": [
    {
     "name": "stdout",
     "output_type": "stream",
     "text": [
      "{1: {'Name': 'Aman Kumar', 'Emp_id': 'DA104', 'Email': 'aman@gmail.com'}, 2: {'Name': 'Mohit Kumar', 'Emp_id': 'DA105', 'Email': 'mohit@gmail.com'}, 3: {'Name': 'Tushar Kumar', 'Emp_id': 'DA106', 'Email': 'tushar@gmail.com'}}\n",
      "{'Name': 'Aman Kumar', 'Emp_id': 'DA104', 'Email': 'aman@gmail.com'}\n",
      "mohit@gmail.com\n"
     ]
    }
   ],
   "source": [
    "# Write a program to design Nested Dictionary\n",
    "\n",
    "Employee={1:{\"Name\":\"Aman Kumar\",\"Emp_id\":\"DA104\",\"Email\":\"aman@gmail.com\"},\n",
    "          2:{\"Name\":\"Mohit Kumar\",\"Emp_id\":\"DA105\",\"Email\":\"mohit@gmail.com\"},\n",
    "          3:{\"Name\":\"Tushar Kumar\",\"Emp_id\":\"DA106\",\"Email\":\"tushar@gmail.com\"}\n",
    "         }\n",
    "print(Employee)\n",
    "print(Employee[1])\n",
    "print(Employee[2][\"Email\"])\n"
   ]
  },
  {
   "cell_type": "code",
   "execution_count": 73,
   "id": "8dc35b9d",
   "metadata": {},
   "outputs": [
    {
     "name": "stdout",
     "output_type": "stream",
     "text": [
      "[6, 12, 23, 45, 91]\n"
     ]
    }
   ],
   "source": [
    "# Write a python program to sort a dictionary by value.\n",
    "\n",
    "a = {\"a\":12,\"b\":23,\"c\":6,\"d\":91,\"e\":45}\n",
    "a=sorted(a.values())\n",
    "print(a)"
   ]
  },
  {
   "cell_type": "code",
   "execution_count": 74,
   "id": "3912aedf",
   "metadata": {},
   "outputs": [
    {
     "name": "stdout",
     "output_type": "stream",
     "text": [
      "Enter the number7\n",
      "{0: 0, 1: 1, 2: 4, 3: 9, 4: 16, 5: 25, 6: 36, 7: 49}\n"
     ]
    }
   ],
   "source": [
    "# Write a python script to print a dictionary where the keys are numbers between 1 and 15 and the values are square of keys.\n",
    "m=int(input(\"Enter the number\"))\n",
    "b={}\n",
    "for i in range(0,m+1):\n",
    "    b[i]=i*i\n",
    "print(b)"
   ]
  },
  {
   "cell_type": "code",
   "execution_count": 78,
   "id": "51d20ae5",
   "metadata": {},
   "outputs": [
    {
     "name": "stdout",
     "output_type": "stream",
     "text": [
      "120\n"
     ]
    }
   ],
   "source": [
    "# Write a program to multiply all the items in a dictionary\n",
    "d = {\"a\":1,\"b\":2,\"c\":3,\"d\":4,\"e\":5}\n",
    "mul=1\n",
    "for i in d:\n",
    "    mul*=d[i]\n",
    "print(mul)"
   ]
  },
  {
   "cell_type": "code",
   "execution_count": 80,
   "id": "90b47603",
   "metadata": {},
   "outputs": [
    {
     "name": "stdout",
     "output_type": "stream",
     "text": [
      "['a', 'b', 'c', 'd', 'e']\n"
     ]
    }
   ],
   "source": [
    "# Write a python program to sort a dictionary by key\n",
    "e = {\"a\":1,\"b\":2,\"c\":3,\"d\":4,\"e\":5}\n",
    "e=sorted(e.keys())\n",
    "print(e)"
   ]
  },
  {
   "cell_type": "code",
   "execution_count": 85,
   "id": "6384ad8a",
   "metadata": {},
   "outputs": [
    {
     "name": "stdout",
     "output_type": "stream",
     "text": [
      "{\"name\": \"David\", \"age\": 13, \"marks\": 87}\n",
      "<class 'str'>\n"
     ]
    }
   ],
   "source": [
    "import json\n",
    "#Convert the following dictionary into JSON format.\n",
    "\n",
    "Student_data = {\"name\": \"David\", \"age\":13,\"marks\":87}\n",
    "data=json.dumps(Student_data)\n",
    "print(data)\n",
    "print(type(data))\n"
   ]
  }
 ],
 "metadata": {
  "kernelspec": {
   "display_name": "Python 3 (ipykernel)",
   "language": "python",
   "name": "python3"
  },
  "language_info": {
   "codemirror_mode": {
    "name": "ipython",
    "version": 3
   },
   "file_extension": ".py",
   "mimetype": "text/x-python",
   "name": "python",
   "nbconvert_exporter": "python",
   "pygments_lexer": "ipython3",
   "version": "3.11.5"
  }
 },
 "nbformat": 4,
 "nbformat_minor": 5
}
