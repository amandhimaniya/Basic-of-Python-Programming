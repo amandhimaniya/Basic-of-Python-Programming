{
 "cells": [
  {
   "cell_type": "code",
   "execution_count": 13,
   "id": "7decba6e",
   "metadata": {},
   "outputs": [
    {
     "name": "stdout",
     "output_type": "stream",
     "text": [
      "Hello World\n",
      "Hello World\n",
      "Hello World\n",
      "Hello World\n",
      "Hello World\n",
      "Hello World\n"
     ]
    }
   ],
   "source": [
    "# Write a program to Perform for Loop.\n",
    "for i in range(6):\n",
    "    print(\"Hello World\")"
   ]
  },
  {
   "cell_type": "code",
   "execution_count": 21,
   "id": "d3b7d79b",
   "metadata": {},
   "outputs": [
    {
     "name": "stdout",
     "output_type": "stream",
     "text": [
      "2\n",
      "4\n",
      "6\n",
      "8\n",
      "10\n",
      "12\n",
      "14\n",
      "16\n",
      "18\n",
      "20\n",
      "22\n",
      "24\n",
      "26\n",
      "28\n",
      "30\n",
      "32\n",
      "34\n",
      "36\n",
      "38\n",
      "40\n",
      "42\n",
      "44\n",
      "46\n",
      "48\n",
      "50\n",
      "52\n",
      "54\n",
      "56\n",
      "58\n",
      "60\n",
      "62\n",
      "64\n",
      "66\n",
      "68\n",
      "70\n",
      "72\n",
      "74\n",
      "76\n",
      "78\n",
      "80\n",
      "82\n",
      "84\n",
      "86\n",
      "88\n",
      "90\n",
      "92\n",
      "94\n",
      "96\n",
      "98\n",
      "100\n"
     ]
    }
   ],
   "source": [
    "# Write a program to Print Even number upto 100\n",
    "for i in range(2,101,2):\n",
    "    print(i)"
   ]
  },
  {
   "cell_type": "code",
   "execution_count": 29,
   "id": "194baaa8",
   "metadata": {},
   "outputs": [
    {
     "name": "stdout",
     "output_type": "stream",
     "text": [
      "Enter the number which table you want!!!3\n",
      "3 * 1 = 3\n",
      "3 * 2 = 6\n",
      "3 * 3 = 9\n",
      "3 * 4 = 12\n",
      "3 * 5 = 15\n",
      "3 * 6 = 18\n",
      "3 * 7 = 21\n",
      "3 * 8 = 24\n",
      "3 * 9 = 27\n",
      "3 * 10 = 30\n"
     ]
    }
   ],
   "source": [
    "# Write a program to print table of any number\n",
    "num=int(input(\"Enter the number which table you want!!!\"))\n",
    "for i in range(1,11):\n",
    "    print(num,\"*\",i,\"=\",num*i)"
   ]
  },
  {
   "cell_type": "code",
   "execution_count": 33,
   "id": "c8b786b6",
   "metadata": {},
   "outputs": [
    {
     "name": "stdout",
     "output_type": "stream",
     "text": [
      "0 . Hii Aman Kumar\n",
      "2 . Hii Aman Kumar\n",
      "4 . Hii Aman Kumar\n",
      "6 . Hii Aman Kumar\n",
      "8 . Hii Aman Kumar\n",
      "10 . Hii Aman Kumar\n",
      "12 . Hii Aman Kumar\n",
      "14 . Hii Aman Kumar\n",
      "16 . Hii Aman Kumar\n",
      "18 . Hii Aman Kumar\n",
      "20 . Hii Aman Kumar\n",
      "22 . Hii Aman Kumar\n",
      "24 . Hii Aman Kumar\n",
      "26 . Hii Aman Kumar\n",
      "28 . Hii Aman Kumar\n",
      "30 . Hii Aman Kumar\n",
      "32 . Hii Aman Kumar\n",
      "34 . Hii Aman Kumar\n",
      "36 . Hii Aman Kumar\n",
      "38 . Hii Aman Kumar\n",
      "40 . Hii Aman Kumar\n",
      "42 . Hii Aman Kumar\n",
      "44 . Hii Aman Kumar\n",
      "46 . Hii Aman Kumar\n",
      "48 . Hii Aman Kumar\n",
      "50 . Hii Aman Kumar\n",
      "52 . Hii Aman Kumar\n",
      "54 . Hii Aman Kumar\n",
      "56 . Hii Aman Kumar\n",
      "58 . Hii Aman Kumar\n",
      "60 . Hii Aman Kumar\n",
      "62 . Hii Aman Kumar\n",
      "64 . Hii Aman Kumar\n",
      "66 . Hii Aman Kumar\n",
      "68 . Hii Aman Kumar\n",
      "70 . Hii Aman Kumar\n",
      "72 . Hii Aman Kumar\n",
      "74 . Hii Aman Kumar\n",
      "76 . Hii Aman Kumar\n",
      "78 . Hii Aman Kumar\n",
      "80 . Hii Aman Kumar\n",
      "82 . Hii Aman Kumar\n",
      "84 . Hii Aman Kumar\n",
      "86 . Hii Aman Kumar\n",
      "88 . Hii Aman Kumar\n",
      "90 . Hii Aman Kumar\n",
      "92 . Hii Aman Kumar\n",
      "94 . Hii Aman Kumar\n",
      "96 . Hii Aman Kumar\n",
      "98 . Hii Aman Kumar\n",
      "100 . Hii Aman Kumar\n"
     ]
    }
   ],
   "source": [
    "#Write a program to Perform While Loop.\n",
    "num=0\n",
    "while(num<=100):\n",
    "    print(num,\". Hii Aman Kumar\")\n",
    "    num+=2"
   ]
  },
  {
   "cell_type": "code",
   "execution_count": 42,
   "id": "764beb06",
   "metadata": {},
   "outputs": [
    {
     "name": "stdout",
     "output_type": "stream",
     "text": [
      "Enter first Number Here :5\n",
      "Enter Second Number Here :6\n",
      "11\n",
      "Do you want to stop :na\n",
      "Enter first Number Here :9\n",
      "Enter Second Number Here :4\n",
      "13\n",
      "Do you want to stop :yes\n"
     ]
    }
   ],
   "source": [
    "# Write a program to Perform while True Loop.\n",
    "while True:\n",
    "    num1=int(input(\"Enter first Number Here :\"))\n",
    "    num2=int(input(\"Enter Second Number Here :\"))\n",
    "    print(num1+num2)\n",
    "    \n",
    "    repeat=str(input(\"Do you want to stop :\"))\n",
    "    if repeat==\"yes\" or repeat==\"YES\" or repeat==\"Yes\" :\n",
    "        break\n",
    "    else:\n",
    "        continue"
   ]
  },
  {
   "cell_type": "code",
   "execution_count": 45,
   "id": "f0c6197a",
   "metadata": {},
   "outputs": [
    {
     "name": "stdout",
     "output_type": "stream",
     "text": [
      "Push\n",
      "up\n",
      "Push\n",
      "up\n",
      "Push\n",
      "up\n",
      "Push\n",
      "up\n",
      "Push\n",
      "up\n",
      "Push\n",
      "up\n",
      "Push\n",
      "up\n",
      "Push\n",
      "up\n",
      "Push\n",
      "up\n",
      "Push\n",
      "up\n",
      "Ready for next round\n",
      "Push\n",
      "up\n",
      "Push\n",
      "up\n",
      "Push\n",
      "up\n",
      "Push\n",
      "up\n",
      "Push\n",
      "up\n",
      "Push\n",
      "up\n",
      "Push\n",
      "up\n",
      "Push\n",
      "up\n",
      "Push\n",
      "up\n",
      "Push\n",
      "up\n",
      "Ready for next round\n",
      "Push\n",
      "up\n",
      "Push\n",
      "up\n",
      "Push\n",
      "up\n",
      "Push\n",
      "up\n",
      "Push\n",
      "up\n",
      "Push\n",
      "up\n",
      "Push\n",
      "up\n",
      "Push\n",
      "up\n",
      "Push\n",
      "up\n",
      "Push\n",
      "up\n",
      "Ready for next round\n"
     ]
    }
   ],
   "source": [
    "# Write a program to Perform nested Loop.\n",
    "for i in range(1,4):\n",
    "    for j in range(1,11):\n",
    "        print(\"Push\")\n",
    "        print(\"up\")\n",
    "    print(\"Ready for next round\")\n",
    "    "
   ]
  },
  {
   "cell_type": "code",
   "execution_count": 61,
   "id": "55695838",
   "metadata": {},
   "outputs": [
    {
     "name": "stdout",
     "output_type": "stream",
     "text": [
      "1 \n",
      "1 2 \n",
      "1 2 3 \n",
      "1 2 3 4 \n",
      "1 2 3 4 5 \n"
     ]
    }
   ],
   "source": [
    "# Write a program to Perform nested Loop.\n",
    "'''\n",
    "1\n",
    "12\n",
    "123\n",
    "1234\n",
    "12345\n",
    "'''\n",
    "for i in range(1,6):\n",
    "    for j in range (1,i+1):\n",
    "        print(j,end=\" \")\n",
    "    print()\n",
    "  "
   ]
  },
  {
   "cell_type": "code",
   "execution_count": 62,
   "id": "0f4adc29",
   "metadata": {},
   "outputs": [
    {
     "name": "stdout",
     "output_type": "stream",
     "text": [
      "1\n",
      "2\n",
      "Repeat one more time\n",
      "4\n",
      "5\n",
      "6\n",
      "7\n",
      "8\n",
      "9\n",
      "10\n"
     ]
    }
   ],
   "source": [
    "# Write a program to Perform loop with conditional statement.\n",
    "for i in range(1,11):\n",
    "    if i==3:\n",
    "        print(\"Repeat one more time\")\n",
    "    else:\n",
    "        print(i)"
   ]
  },
  {
   "cell_type": "code",
   "execution_count": 65,
   "id": "cc7e9868",
   "metadata": {},
   "outputs": [
    {
     "name": "stdout",
     "output_type": "stream",
     "text": [
      "Enter first number12\n",
      "Enter Seconf number8\n",
      "24\n",
      "48\n",
      "72\n",
      "96\n"
     ]
    }
   ],
   "source": [
    "# Write a program to find the common multiple of given number.\n",
    "num1=int(input(\"Enter first number\"))\n",
    "num2=int(input(\"Enter Seconf number\"))\n",
    "for i in range(1,101):\n",
    "    if i%num1==0 and i%num2==0 :\n",
    "        print(i)"
   ]
  },
  {
   "cell_type": "code",
   "execution_count": 66,
   "id": "828678da",
   "metadata": {},
   "outputs": [
    {
     "name": "stdout",
     "output_type": "stream",
     "text": [
      "2\n",
      "4\n",
      "8\n",
      "10\n",
      "12\n",
      "14\n",
      "16\n",
      "18\n",
      "20\n",
      "22\n",
      "24\n",
      "26\n",
      "28\n",
      "30\n",
      "32\n",
      "34\n",
      "36\n",
      "38\n",
      "40\n",
      "42\n",
      "44\n",
      "46\n",
      "48\n",
      "50\n",
      "52\n",
      "54\n",
      "56\n",
      "58\n",
      "60\n",
      "62\n",
      "64\n",
      "66\n",
      "68\n",
      "70\n",
      "72\n",
      "74\n",
      "76\n",
      "78\n",
      "80\n",
      "82\n",
      "84\n",
      "86\n",
      "88\n",
      "90\n",
      "92\n",
      "94\n",
      "96\n",
      "98\n",
      "100\n"
     ]
    }
   ],
   "source": [
    "# Write a program to perform continue statement\n",
    "for i in range(2,101,2):\n",
    "    if i==6 :\n",
    "        continue\n",
    "    print(i)"
   ]
  },
  {
   "cell_type": "code",
   "execution_count": 68,
   "id": "94705bea",
   "metadata": {},
   "outputs": [
    {
     "name": "stdout",
     "output_type": "stream",
     "text": [
      "2\n",
      "4\n",
      "6\n",
      "8\n",
      "10\n",
      "12\n",
      "14\n",
      "16\n",
      "18\n"
     ]
    }
   ],
   "source": [
    "# Write a program to perform break statement\n",
    "for i in range(2,101,2):\n",
    "    if i==20 :\n",
    "        break\n",
    "    print(i)"
   ]
  },
  {
   "cell_type": "code",
   "execution_count": 6,
   "id": "04617fbe",
   "metadata": {},
   "outputs": [
    {
     "name": "stdout",
     "output_type": "stream",
     "text": [
      "1\n",
      "3\n",
      "6\n",
      "10\n",
      "15\n",
      "21\n",
      "28\n",
      "36\n",
      "45\n",
      "55\n",
      "66\n",
      "78\n",
      "91\n",
      "105\n",
      "120\n",
      "136\n",
      "153\n",
      "171\n",
      "190\n",
      "210\n",
      "231\n",
      "253\n",
      "276\n",
      "300\n",
      "325\n",
      "351\n",
      "378\n",
      "406\n",
      "435\n",
      "465\n",
      "496\n",
      "528\n",
      "561\n",
      "595\n",
      "630\n",
      "666\n",
      "703\n",
      "741\n",
      "780\n",
      "820\n",
      "861\n",
      "903\n",
      "946\n",
      "990\n",
      "1035\n",
      "1081\n",
      "1128\n",
      "1176\n",
      "1225\n",
      "1275\n"
     ]
    }
   ],
   "source": [
    "#1. Write a program to find a sum of all the even numbers up to 50.\n",
    "sum=0\n",
    "for i in range(1,51):\n",
    "    sum=sum+i\n",
    "    print(sum)"
   ]
  },
  {
   "cell_type": "code",
   "execution_count": 11,
   "id": "cb27d607",
   "metadata": {},
   "outputs": [
    {
     "name": "stdout",
     "output_type": "stream",
     "text": [
      "1  =  1\n",
      "2  =  4\n",
      "3  =  9\n",
      "4  =  16\n",
      "5  =  25\n",
      "6  =  36\n",
      "7  =  49\n",
      "8  =  64\n",
      "9  =  81\n",
      "10  =  100\n",
      "11  =  121\n",
      "12  =  144\n",
      "13  =  169\n",
      "14  =  196\n",
      "15  =  225\n",
      "16  =  256\n",
      "17  =  289\n",
      "18  =  324\n",
      "19  =  361\n",
      "20  =  400\n"
     ]
    }
   ],
   "source": [
    "#2. Write a program to write first 20 numbers and their squared numbers.\n",
    "for i in range(1,21):\n",
    "    print(i,\" = \",i*i)"
   ]
  },
  {
   "cell_type": "code",
   "execution_count": 20,
   "id": "865c8381",
   "metadata": {},
   "outputs": [
    {
     "name": "stdout",
     "output_type": "stream",
     "text": [
      "100\n"
     ]
    }
   ],
   "source": [
    "#3. Write a program to find sum of first 10 odd numbers using while loop.\n",
    "i=0\n",
    "sum=0\n",
    "while i<=20:\n",
    "    if i%2!=0:\n",
    "        sum+=i\n",
    "    i+=1\n",
    "print(sum)\n",
    "    "
   ]
  },
  {
   "cell_type": "code",
   "execution_count": 21,
   "id": "23c80c48",
   "metadata": {},
   "outputs": [
    {
     "name": "stdout",
     "output_type": "stream",
     "text": [
      "24\n",
      "48\n",
      "72\n",
      "96\n"
     ]
    }
   ],
   "source": [
    "#4. Write a program to check if a number is divisible by 8 and12 upto 100 numbers\n",
    "num1=8\n",
    "num2=12\n",
    "for i in range(1,101):\n",
    "    if i%num1==0 and i%num2==0 :\n",
    "        print(i)"
   ]
  },
  {
   "cell_type": "code",
   "execution_count": 261,
   "id": "0444132c",
   "metadata": {},
   "outputs": [
    {
     "ename": "KeyboardInterrupt",
     "evalue": "Interrupted by user",
     "output_type": "error",
     "traceback": [
      "\u001b[1;31m---------------------------------------------------------------------------\u001b[0m",
      "\u001b[1;31mKeyboardInterrupt\u001b[0m                         Traceback (most recent call last)",
      "Cell \u001b[1;32mIn[261], line 3\u001b[0m\n\u001b[0;32m      1\u001b[0m \u001b[38;5;66;03m#5. Write a program to create a billing system at supermarket\u001b[39;00m\n\u001b[0;32m      2\u001b[0m \u001b[38;5;28;01mwhile\u001b[39;00m \u001b[38;5;28;01mTrue\u001b[39;00m:\n\u001b[1;32m----> 3\u001b[0m     name\u001b[38;5;241m=\u001b[39m\u001b[38;5;28mstr\u001b[39m(\u001b[38;5;28minput\u001b[39m(\u001b[38;5;124m\"\u001b[39m\u001b[38;5;124mEnter Your Name\u001b[39m\u001b[38;5;124m\"\u001b[39m))\n\u001b[0;32m      4\u001b[0m     \u001b[38;5;28mprint\u001b[39m(name)\n\u001b[0;32m      5\u001b[0m     Total\u001b[38;5;241m=\u001b[39m\u001b[38;5;241m0\u001b[39m\n",
      "File \u001b[1;32mE:\\Users\\Aman\\anaconda3\\Lib\\site-packages\\ipykernel\\kernelbase.py:1202\u001b[0m, in \u001b[0;36mKernel.raw_input\u001b[1;34m(self, prompt)\u001b[0m\n\u001b[0;32m   1200\u001b[0m     msg \u001b[38;5;241m=\u001b[39m \u001b[38;5;124m\"\u001b[39m\u001b[38;5;124mraw_input was called, but this frontend does not support input requests.\u001b[39m\u001b[38;5;124m\"\u001b[39m\n\u001b[0;32m   1201\u001b[0m     \u001b[38;5;28;01mraise\u001b[39;00m StdinNotImplementedError(msg)\n\u001b[1;32m-> 1202\u001b[0m \u001b[38;5;28;01mreturn\u001b[39;00m \u001b[38;5;28mself\u001b[39m\u001b[38;5;241m.\u001b[39m_input_request(\n\u001b[0;32m   1203\u001b[0m     \u001b[38;5;28mstr\u001b[39m(prompt),\n\u001b[0;32m   1204\u001b[0m     \u001b[38;5;28mself\u001b[39m\u001b[38;5;241m.\u001b[39m_parent_ident[\u001b[38;5;124m\"\u001b[39m\u001b[38;5;124mshell\u001b[39m\u001b[38;5;124m\"\u001b[39m],\n\u001b[0;32m   1205\u001b[0m     \u001b[38;5;28mself\u001b[39m\u001b[38;5;241m.\u001b[39mget_parent(\u001b[38;5;124m\"\u001b[39m\u001b[38;5;124mshell\u001b[39m\u001b[38;5;124m\"\u001b[39m),\n\u001b[0;32m   1206\u001b[0m     password\u001b[38;5;241m=\u001b[39m\u001b[38;5;28;01mFalse\u001b[39;00m,\n\u001b[0;32m   1207\u001b[0m )\n",
      "File \u001b[1;32mE:\\Users\\Aman\\anaconda3\\Lib\\site-packages\\ipykernel\\kernelbase.py:1245\u001b[0m, in \u001b[0;36mKernel._input_request\u001b[1;34m(self, prompt, ident, parent, password)\u001b[0m\n\u001b[0;32m   1242\u001b[0m \u001b[38;5;28;01mexcept\u001b[39;00m \u001b[38;5;167;01mKeyboardInterrupt\u001b[39;00m:\n\u001b[0;32m   1243\u001b[0m     \u001b[38;5;66;03m# re-raise KeyboardInterrupt, to truncate traceback\u001b[39;00m\n\u001b[0;32m   1244\u001b[0m     msg \u001b[38;5;241m=\u001b[39m \u001b[38;5;124m\"\u001b[39m\u001b[38;5;124mInterrupted by user\u001b[39m\u001b[38;5;124m\"\u001b[39m\n\u001b[1;32m-> 1245\u001b[0m     \u001b[38;5;28;01mraise\u001b[39;00m \u001b[38;5;167;01mKeyboardInterrupt\u001b[39;00m(msg) \u001b[38;5;28;01mfrom\u001b[39;00m \u001b[38;5;28;01mNone\u001b[39;00m\n\u001b[0;32m   1246\u001b[0m \u001b[38;5;28;01mexcept\u001b[39;00m \u001b[38;5;167;01mException\u001b[39;00m:\n\u001b[0;32m   1247\u001b[0m     \u001b[38;5;28mself\u001b[39m\u001b[38;5;241m.\u001b[39mlog\u001b[38;5;241m.\u001b[39mwarning(\u001b[38;5;124m\"\u001b[39m\u001b[38;5;124mInvalid Message:\u001b[39m\u001b[38;5;124m\"\u001b[39m, exc_info\u001b[38;5;241m=\u001b[39m\u001b[38;5;28;01mTrue\u001b[39;00m)\n",
      "\u001b[1;31mKeyboardInterrupt\u001b[0m: Interrupted by user"
     ]
    }
   ],
   "source": [
    "#5. Write a program to create a billing system at supermarket\n",
    "while True:\n",
    "    name=str(input(\"Enter Your Name\"))\n",
    "    print(name)\n",
    "    Total=0\n",
    "    while True:\n",
    "        amount=int(input(\"Enter the amount\"))\n",
    "        quantity=int(input(\"Enter the quantity\"))\n",
    "        print(\"Want to continue shopping ??\")\n",
    "        Total += amount*quantity\n",
    "        print(Total)"
   ]
  },
  {
   "cell_type": "code",
   "execution_count": 42,
   "id": "252d0069",
   "metadata": {},
   "outputs": [
    {
     "name": "stdout",
     "output_type": "stream",
     "text": [
      "43\n",
      "3\n",
      "WHY FIT IN, WHEN YOU ARE BORN TO STAND OUT!\n",
      "why fit in, when you are born to stand out!\n",
      "Why Fit In, When You Are Born To Stand Out!\n",
      "Why fit in, when you are born to stand out!\n",
      "4\n"
     ]
    }
   ],
   "source": [
    "A = \"Why fit in, When you are Born to Stand Out!\"\n",
    "\n",
    "# 1. Write a program to find the length of the following string.\n",
    "\n",
    "print(len(A))\n",
    "\n",
    "# 2. Write a program to check how many time alphabet o is occurring.\n",
    "\n",
    "print(A.count('o'))\n",
    "\n",
    "# 3. Write a program to convert the whole string into lower and upper cases.\n",
    "\n",
    "B=A.upper()\n",
    "print(B)\n",
    "\n",
    "C=A.lower()\n",
    "print(C)\n",
    "\n",
    "# 4. Write a program to convert the following string into a title.\n",
    "\n",
    "D=A.title()\n",
    "print(D)\n",
    "\n",
    "E=A.capitalize()\n",
    "print(E)\n",
    "\n",
    "# 5. Write a program to find the index number of \"fit in\".\n",
    "print(A.find(\"fit in\"))"
   ]
  },
  {
   "cell_type": "code",
   "execution_count": 83,
   "id": "5e910156",
   "metadata": {},
   "outputs": [
    {
     "name": "stdout",
     "output_type": "stream",
     "text": [
      "1 \n",
      "1 2 \n",
      "1 2 3 \n",
      "1 2 3 4 \n",
      "1 2 3 4 5 \n"
     ]
    }
   ],
   "source": [
    "# Write a program to display a pattern\n",
    "'''\n",
    "1\n",
    "12\n",
    "123\n",
    "1234\n",
    "12345\n",
    "'''\n",
    "for i in range(1,6):\n",
    "    for j in range(1,i+1):\n",
    "       print(j,end=\" \")\n",
    "    print()\n"
   ]
  },
  {
   "cell_type": "code",
   "execution_count": 82,
   "id": "3b75ebd9",
   "metadata": {},
   "outputs": [
    {
     "name": "stdout",
     "output_type": "stream",
     "text": [
      "* \n",
      "* * \n",
      "* * * \n",
      "* * * * \n",
      "* * * * * \n"
     ]
    }
   ],
   "source": [
    "# Write a program to display a pattern\n",
    "'''\n",
    "*\n",
    "**\n",
    "***\n",
    "****\n",
    "*****\n",
    "'''\n",
    "for i in range(1,6):\n",
    "    for j in range(1,i+1):\n",
    "       print(\"*\",end=\" \")\n",
    "    print()\n"
   ]
  },
  {
   "cell_type": "code",
   "execution_count": 81,
   "id": "0ec5837b",
   "metadata": {},
   "outputs": [
    {
     "name": "stdout",
     "output_type": "stream",
     "text": [
      "1 \n",
      "2 2 \n",
      "3 3 3 \n",
      "4 4 4 4 \n",
      "5 5 5 5 5 \n"
     ]
    }
   ],
   "source": [
    "# Write a program to display a pattern\n",
    "'''\n",
    "1\n",
    "22\n",
    "333\n",
    "4444\n",
    "55555\n",
    "'''\n",
    "for i in range(1,6):\n",
    "    for j in range(1,i+1):\n",
    "       print(i,end=\" \")\n",
    "    print()\n"
   ]
  },
  {
   "cell_type": "code",
   "execution_count": 89,
   "id": "cb883126",
   "metadata": {},
   "outputs": [
    {
     "name": "stdout",
     "output_type": "stream",
     "text": [
      "1 1 1 1 1 \n",
      "1 1 1 1 \n",
      "1 1 1 \n",
      "1 1 \n",
      "1 \n"
     ]
    }
   ],
   "source": [
    "# Write a program to display a pattern\n",
    "'''\n",
    "11111\n",
    "1111\n",
    "111\n",
    "11\n",
    "1\n",
    "'''\n",
    "for i in range(1,6):\n",
    "    for j in range(6,i,-1):\n",
    "       print(\"1\",end=\" \")\n",
    "    print()\n"
   ]
  },
  {
   "cell_type": "code",
   "execution_count": 92,
   "id": "90394af3",
   "metadata": {},
   "outputs": [
    {
     "name": "stdout",
     "output_type": "stream",
     "text": [
      "* * * * * \n",
      "* * * * \n",
      "* * * \n",
      "* * \n",
      "* \n"
     ]
    }
   ],
   "source": [
    "# Write a program to display a pattern\n",
    "'''\n",
    "*****\n",
    "****\n",
    "***\n",
    "**\n",
    "*\n",
    "'''\n",
    "for i in range(1,6):\n",
    "    for j in range(6,i,-1):\n",
    "       print(\"*\",end=\" \")\n",
    "    print()\n"
   ]
  },
  {
   "cell_type": "code",
   "execution_count": 99,
   "id": "85170437",
   "metadata": {},
   "outputs": [
    {
     "name": "stdout",
     "output_type": "stream",
     "text": [
      "        0       0 1     0 1 2   0 1 2 3 0 1 2 3 4 "
     ]
    }
   ],
   "source": [
    "# Write a program to display a pattern\n",
    "'''\n",
    "    *\n",
    "   **\n",
    "  ***\n",
    " ****\n",
    "*****\n",
    "'''\n",
    "for i in range(1,6):\n",
    "    for j in range(5,i,-1):\n",
    "        print(\" \",end=\" \")\n",
    "    for k in range(i):\n",
    "        print(,end=\" \")\n"
   ]
  },
  {
   "cell_type": "code",
   "execution_count": 103,
   "id": "f1249f3c",
   "metadata": {},
   "outputs": [
    {
     "name": "stdout",
     "output_type": "stream",
     "text": [
      "1 \n",
      "2 2 \n",
      "3 3 3 \n",
      "4 4 4 4 \n",
      "5 5 5 5 5 \n"
     ]
    }
   ],
   "source": [
    "# Write a program to display a pattern\n",
    "'''\n",
    "1\n",
    "21\n",
    "321\n",
    "4321\n",
    "54321\n",
    "'''\n",
    "for i in range(1,6):\n",
    "    for j in range(i, 0 ,-1):\n",
    "       print(i,end=\" \")\n",
    "    print()\n"
   ]
  },
  {
   "cell_type": "code",
   "execution_count": 134,
   "id": "3d95ff7e",
   "metadata": {},
   "outputs": [
    {
     "name": "stdout",
     "output_type": "stream",
     "text": [
      "44\n",
      "3\n",
      "AMAN KUMAR IS A COMPUTER SCIENCE ENGINEER {}\n",
      "aman kumar is a computer science engineer {}\n",
      "5\n",
      "Aman kumar is a computer science engineer {}\n",
      "Aman Kumar Is A Computer Science Engineer {}\n",
      "aman kumar is a computer science engineer {}\n",
      "2\n",
      "Aman Kumar is a computer science engineer Good\n",
      "****************************Aman Kumar is a computer science engineer {}****************************\n"
     ]
    }
   ],
   "source": [
    "# Write a program to perform all the operation of string.\n",
    "a = \"Aman Kumar is a computer science engineer {}\"\n",
    "\n",
    "#Length\n",
    "print(len(a))\n",
    "\n",
    "#Count\n",
    "print(a.count('a'))\n",
    "\n",
    "#Upper\n",
    "print(a.upper())\n",
    "\n",
    "#Lower\n",
    "print(a.lower())\n",
    "\n",
    "#Index\n",
    "print(a.index('K'))\n",
    "\n",
    "#Capitalize\n",
    "print(a.capitalize())\n",
    "\n",
    "#Title\n",
    "print(a.title())\n",
    "\n",
    "#Casefold\n",
    "print(a.casefold())\n",
    "\n",
    "#Find\n",
    "print(a.find('a'))\n",
    "\n",
    "#Format\n",
    "print(a.format(\"Good\"))\n",
    "\n",
    "#Center\n",
    "print(a.center(100,\"*\"))"
   ]
  },
  {
   "cell_type": "code",
   "execution_count": 152,
   "id": "6e924780",
   "metadata": {},
   "outputs": [
    {
     "name": "stdout",
     "output_type": "stream",
     "text": [
      "False\n",
      "False\n",
      "False\n",
      "False\n",
      "False\n",
      "True\n",
      "False\n",
      "True\n",
      "True\n"
     ]
    }
   ],
   "source": [
    "a=\"Hiii I Am Aman Kumar\"\n",
    "b=\" \"\n",
    "c=\".\"\n",
    "d=\"aman\"\n",
    "\n",
    "#isalnum- Returns True if all characters in the string are alphanumeric\n",
    "\n",
    "print(a.isalnum())\n",
    "\n",
    "#isalpha- Retuens True if all characters in the string are in the alphabet\n",
    "\n",
    "print(a.isalpha())\n",
    "\n",
    "#isdecimal Returns True if all characters in the string are decimals\n",
    "\n",
    "print(c.isdecimal())\n",
    "\n",
    "#isdigit Returns True if all characters in the string are digits\n",
    "\n",
    "print(a.isdigit())\n",
    "\n",
    "#isnumeric - Returns True if all characters in the string are numeric\n",
    "\n",
    "print(a.isnumeric())\n",
    "\n",
    "#islower Converts a string into lower case\n",
    "\n",
    "print(d.islower())\n",
    "\n",
    "#isupper Returns True if all characters in the string are upper case\n",
    "\n",
    "print(a.isupper())\n",
    "\n",
    "#isspace - Returns True if all characters in the string are whitespaces\n",
    "\n",
    "print(b.isspace())\n",
    "\n",
    "#istitle Returns True if the string follows the rules of a title\n",
    "\n",
    "print(a.istitle())"
   ]
  },
  {
   "cell_type": "code",
   "execution_count": 188,
   "id": "0bf9b043",
   "metadata": {},
   "outputs": [
    {
     "name": "stdout",
     "output_type": "stream",
     "text": [
      "False\n",
      "True\n",
      "True\n",
      "True\n",
      "i AM aMAN kUMAR     \n",
      "I am Aman Kumar     \n",
      "I am Aman Kumar\n",
      "['Hey', 'IamAman', 'Whatabouyou', 'Areyouokay.']\n",
      "mam how are you*****\n",
      "*****mam how are you\n",
      "Sir how are you\n",
      "8\n",
      "13\n"
     ]
    }
   ],
   "source": [
    "# endswith- Returns True if the string ends with specified value\n",
    "a=\"I am Aman Kumar     \"\n",
    "print(a.endswith('r'))\n",
    "print(a.endswith('n',6,9))\n",
    "\n",
    "# startswith- Returns True if the string starts with specified value\n",
    "print(a.startswith('I'))\n",
    "print(a.startswith('A',5,9))\n",
    "\n",
    "#swapcase- Lower become uppercase vice-versa\n",
    "print(a.swapcase())\n",
    "\n",
    "#strip- Returned a trimmed version of string\n",
    "print(a)\n",
    "print(a.strip())\n",
    "\n",
    "#split- Split return the string at specified character and the value in the form of list\n",
    "b=\"Hey#IamAman#Whatabouyou#Areyouokay.\"\n",
    "print(b.split('#'))\n",
    "\n",
    "# ljust- Return a left justied verion of string\n",
    "c=\"mam how are you\"\n",
    "print(c.ljust(20,\"*\"))\n",
    "\n",
    "# rjust- Return a right justied verion of string\n",
    "print(c.rjust(20,\"*\"))\n",
    "\n",
    "#replace- Return a string where specified value is replace with specify value\n",
    "c=\"mam how are you\"\n",
    "print(c.replace(\"mam\",\"Sir\"))\n",
    "\n",
    "#rindex- Search the string for a specified value and return the last position where it was found\n",
    "print(c.rindex(\"are\"))\n",
    "\n",
    "#rfind- Search the string for a specified value and return the last position where it was found\n",
    "print(c.rindex(\"o\",7,14))"
   ]
  },
  {
   "cell_type": "code",
   "execution_count": 205,
   "id": "38bb8959",
   "metadata": {},
   "outputs": [
    {
     "name": "stdout",
     "output_type": "stream",
     "text": [
      "Hiiii am Aman Kumar\n",
      "Hii\n",
      "Hiiii am\n",
      " Kumar\n",
      "Hiia mnKmr\n",
      "Hiia \n",
      "ramuK namA ma iiiiH\n"
     ]
    }
   ],
   "source": [
    "#String Slicing\n",
    "a=\"Hiiii am Aman Kumar\"\n",
    "print(a)\n",
    "print(a[0:3])\n",
    "print(a[:8])\n",
    "print(a[-6:])\n",
    "print(a[::2])\n",
    "print(a[0:9:2])\n",
    "print(a[::-1])"
   ]
  },
  {
   "cell_type": "code",
   "execution_count": 220,
   "id": "3232c415",
   "metadata": {},
   "outputs": [
    {
     "name": "stdout",
     "output_type": "stream",
     "text": [
      "Enter the number at which you want Fibonacci series10\n",
      "0\n",
      "1\n",
      "1\n",
      "2\n",
      "3\n",
      "5\n",
      "8\n",
      "13\n",
      "21\n",
      "34\n"
     ]
    }
   ],
   "source": [
    "# 1. Write a program to get Fibonacci series up to 10 numbers.\n",
    "a=0\n",
    "b=1\n",
    "n=int(input(\"Enter the number at which you want Fibonacci series\"))\n",
    "print(a)\n",
    "print(b)\n",
    "for i in range(2,n):\n",
    "    sum=a+b\n",
    "    a=b\n",
    "    b=sum\n",
    "    print(sum)"
   ]
  },
  {
   "cell_type": "code",
   "execution_count": 238,
   "id": "ab46777a",
   "metadata": {},
   "outputs": [
    {
     "name": "stdout",
     "output_type": "stream",
     "text": [
      "Enter the which you check is it prime...? or not prime...?37\n",
      "37 is Prime number\n"
     ]
    }
   ],
   "source": [
    "# 2. Write a program to check if a number is prime or not.\n",
    "num=int(input(\"Enter the which you check is it prime...? or not prime...?\"))\n",
    "for i in range(2,num):\n",
    "    if num%i==0:\n",
    "         print(num,\"is not Prime Number\")\n",
    "         break\n",
    "    else :\n",
    "        print(num,\"is Prime number\")\n",
    "        break\n"
   ]
  },
  {
   "cell_type": "code",
   "execution_count": 244,
   "id": "b2bd13ca",
   "metadata": {},
   "outputs": [
    {
     "name": "stdout",
     "output_type": "stream",
     "text": [
      "Enter the which you check is it Palindrome: 343\n",
      "343 is Palindrome Number\n"
     ]
    }
   ],
   "source": [
    "# 3. Write a program to find a palindrome of integers.\n",
    "num=int(input(\"Enter the which you check is it Palindrome: \"))\n",
    "temp=num\n",
    "reverse=0\n",
    "while(num>0):\n",
    "    Ldig=num%10\n",
    "    reverse=reverse*10+Ldig\n",
    "    num=num//10\n",
    "# print(reverse)\n",
    "\n",
    "if temp==reverse:\n",
    "    print(temp,\"is Palindrome Number\")\n",
    "else:\n",
    "    print(temp,\"is not Palindrome Number\")"
   ]
  },
  {
   "cell_type": "code",
   "execution_count": 260,
   "id": "6763a76d",
   "metadata": {},
   "outputs": [
    {
     "name": "stdout",
     "output_type": "stream",
     "text": [
      "For Area of Triangle Press 1\n",
      "For Area of Square Press 2\n",
      "For Area of Rectangle Press 3\n",
      "For Area of Circle Press 4\n",
      "Enter the Shape which you want1\n",
      "Enter the Base value2\n",
      "Enter the Height value4\n",
      "4.0\n",
      "Do you want to again\n",
      "Nonena\n",
      "Do you want to repeat again menu\n",
      "Noneyes\n",
      "For Area of Triangle Press 1\n",
      "For Area of Square Press 2\n",
      "For Area of Rectangle Press 3\n",
      "For Area of Circle Press 4\n",
      "Enter the Shape which you want5\n",
      "Enter the Radius of Circle5\n",
      "78.57142857142857\n",
      "Do you want to again\n",
      "Nonena\n",
      "Do you want to repeat again menu\n",
      "Nonena\n"
     ]
    }
   ],
   "source": [
    "# 4. Write a program to create an area calculator.\n",
    "while True:\n",
    "    print(\"For Area of Triangle Press 1\")\n",
    "    print(\"For Area of Square Press 2\")\n",
    "    print(\"For Area of Rectangle Press 3\")\n",
    "    print(\"For Area of Circle Press 4\")\n",
    "\n",
    "    choice=int(input(\"Enter the Shape which you want\"))\n",
    "    if choice==1 :\n",
    "        while True:\n",
    "            Base=int(input(\"Enter the Base value\"))\n",
    "            Height=int(input(\"Enter the Height value\"))\n",
    "            Area_of_Triangle = (1/2)*Base*Height\n",
    "            print(Area_of_Triangle)\n",
    "            x=input(print(\"Do you want to again\"))\n",
    "            if x==\"Yes\" or x==\"yes\" or x==\"YES\":\n",
    "                continue\n",
    "            else:\n",
    "                break\n",
    "\n",
    "    elif choice==2 :\n",
    "        while True:\n",
    "            Side=int(input(\"Enter the side of square\"))\n",
    "            Area_of_Square = Side*Side \n",
    "            print(Area_of_Square)\n",
    "            x=input(print(\"Do you want to again\"))\n",
    "            if x==\"Yes\" or x==\"yes\" or x==\"YES\":\n",
    "                continue\n",
    "            else:\n",
    "                break\n",
    "    elif choice==3 :\n",
    "        while True:\n",
    "            Length=int(input(\"Enter the Length value\"))\n",
    "            Breadth=int(input(\"Enter the Breadth value\"))\n",
    "            Area_of_Rectangle = Length*Breadth\n",
    "            print(Area_of_Rectangle)\n",
    "            x=input(print(\"Do you want to again\"))\n",
    "            if x==\"Yes\" or x==\"yes\" or x==\"YES\":\n",
    "                continue\n",
    "            else:\n",
    "                break\n",
    "    else :\n",
    "        while True:\n",
    "            Radius=int(input(\"Enter the Radius of Circle\"))\n",
    "            Area_of_Circle=(22/7)*Radius*Radius\n",
    "            print(Area_of_Circle)\n",
    "            x=input(print(\"Do you want to again\"))\n",
    "            if x==\"Yes\" or x==\"yes\" or x==\"YES\":\n",
    "                continue\n",
    "            else:\n",
    "                break\n",
    "    y=input(print(\"Do you want to repeat again menu\"))\n",
    "    if y==\"yes\" or y==\"YES\" or y==\"Yes\":\n",
    "        continue\n",
    "    else:\n",
    "        break"
   ]
  },
  {
   "cell_type": "code",
   "execution_count": 272,
   "id": "0ca9db6d",
   "metadata": {},
   "outputs": [
    {
     "name": "stdout",
     "output_type": "stream",
     "text": [
      "['OOTD', 'YOLO', 'ASAP', 'BRB', 'GTG', 'OTW']\n",
      "['.', '.', '.', '.', '.', 'A', 'A', 'B', 'B', 'D', 'G', 'G', 'L', 'O', 'O', 'O', 'O', 'O', 'P', 'R', 'S', 'T', 'T', 'T', 'W', 'Y']\n",
      "TD.YL.ASAP.BRB.GTG.TW\n",
      "FRIENDS\n",
      "5\n"
     ]
    }
   ],
   "source": [
    "A = \"OOTD.YOLO.ASAP.BRB.GTG.OTW\"\n",
    "\n",
    "# 1. Write a program to separate the following string into coma(,) separated values.\n",
    "print(A.split(\".\"))\n",
    "\n",
    "# 2. Write a program to sort strings alphabetically in python.\n",
    "print(sorted(A))\n",
    "# 3. Write a program to remove a given character from a string.\n",
    "print(A.replace(\"O\",\"\"))\n",
    "\n",
    "Z = \"F.R.I.E.N.D.S.\"\n",
    "\n",
    "# 4. Write a program to remove dot(.) from the following string.\n",
    "print(Z.replace(\".\",\"\"))\n",
    "\n",
    "# 5. Write a program to check the number of occurrence of\n",
    "print(A.count(\"O\"))"
   ]
  },
  {
   "cell_type": "code",
   "execution_count": 312,
   "id": "29a3a560",
   "metadata": {},
   "outputs": [
    {
     "name": "stdout",
     "output_type": "stream",
     "text": [
      "RAMUK NAMA\n",
      "True\n",
      "Enter a string :- Hello aman\n",
      "4\n",
      "No , all word are not begins with capital\n"
     ]
    }
   ],
   "source": [
    "A=\"AMAN KUMAR\"\n",
    "B=\"12334\"\n",
    "\n",
    "# 1. Take an input from a user as a string then, reverse it.\n",
    "print(A[::-1])\n",
    "\n",
    "# 2. Write a program to check if a string contains only digits.\n",
    "print(B.isdigit())\n",
    "\n",
    "# 3. Write a program to find number of vowels in a string.\n",
    "C=input(\"Enter a string :- \")\n",
    "e=C.count(\"a\")\n",
    "f=C.count(\"e\")\n",
    "g=C.count(\"i\")\n",
    "h=C.count(\"o\")\n",
    "i=C.count(\"u\")\n",
    "j=C.count(\"A\")\n",
    "k=C.count(\"E\")\n",
    "l=C.count(\"I\")\n",
    "m=C.count(\"O\")\n",
    "n=C.count(\"U\")\n",
    "print(e+f+g+h+i+j+k+l+m+n)\n",
    "\n",
    "                                            #OR#\n",
    "vowels=0\n",
    "for i in C:\n",
    "    if vowels==\"a\" or vowels==\"e\" or vowels==\"i\" or vowels==\"o\" or vowels==\"u\" or vowels==\"A\" or vowels==\"I\" or vowels==\"O\" or vowels==\"U\":\n",
    "        vowels+=1\n",
    "        print(\"No of Vowels\",vowels)\n"
   ]
  },
  {
   "cell_type": "code",
   "execution_count": 320,
   "id": "c3d71b51",
   "metadata": {},
   "outputs": [
    {
     "name": "stdout",
     "output_type": "stream",
     "text": [
      "Enter a string :- Hii\n",
      "Yes all word given in string start with capital\n"
     ]
    }
   ],
   "source": [
    "# Write a program to check if every word in a string begins with a capital letter.\n",
    "C=input(\"Enter a string :- \")\n",
    "z=C.istitle()\n",
    "if z==True:\n",
    "    print(\"Yes all word given in string start with capital\")\n",
    "else:\n",
    "    print(\"No , all word are not begins with capital\")"
   ]
  },
  {
   "cell_type": "code",
   "execution_count": 288,
   "id": "6f2b654b",
   "metadata": {},
   "outputs": [
    {
     "name": "stdout",
     "output_type": "stream",
     "text": [
      "Enter a string which you check is it palindrom or not :-AmanamA HellolleH AmanamA\n",
      "AmanamA HellolleH AmanamA\n",
      "The given string is palindrome\n"
     ]
    }
   ],
   "source": [
    "# Write a program to check if a string is palindrome.\n",
    "x=str(input(\"Enter a string which you check is it palindrom or not :-\"))\n",
    "b=(x[::-1])\n",
    "print(b)\n",
    "if x==b:\n",
    "    print(\"The given string is palindrome\")\n",
    "else:\n",
    "    print(\"The given string is not palindrome\")"
   ]
  },
  {
   "cell_type": "code",
   "execution_count": null,
   "id": "434d3d34",
   "metadata": {},
   "outputs": [],
   "source": []
  }
 ],
 "metadata": {
  "kernelspec": {
   "display_name": "Python 3 (ipykernel)",
   "language": "python",
   "name": "python3"
  },
  "language_info": {
   "codemirror_mode": {
    "name": "ipython",
    "version": 3
   },
   "file_extension": ".py",
   "mimetype": "text/x-python",
   "name": "python",
   "nbconvert_exporter": "python",
   "pygments_lexer": "ipython3",
   "version": "3.11.5"
  }
 },
 "nbformat": 4,
 "nbformat_minor": 5
}
