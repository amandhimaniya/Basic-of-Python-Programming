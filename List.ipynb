{
 "cells": [
  {
   "cell_type": "code",
   "execution_count": 1,
   "id": "83e9ac69",
   "metadata": {},
   "outputs": [
    {
     "name": "stdout",
     "output_type": "stream",
     "text": [
      "[1, 'Aman', 2, 'Mohit']\n",
      "<class 'list'>\n"
     ]
    }
   ],
   "source": [
    "# Write a Program to create a list, check the type.\n",
    "a=[1,\"Aman\",2,\"Mohit\"]\n",
    "print(a)\n",
    "print(type(a))"
   ]
  },
  {
   "cell_type": "code",
   "execution_count": 2,
   "id": "af53bbe3",
   "metadata": {},
   "outputs": [
    {
     "name": "stdout",
     "output_type": "stream",
     "text": [
      "Aman Kumar\n",
      "Pratham\n",
      "['Aman Kumar', 'Mohit', 'Tushar']\n",
      "['Aman Kumar', 'Mohit']\n",
      "['Aman Kumar', 'Tushar', 'Tanya Gupta', 'Pratham']\n",
      "['Pratham', 'Muskan', 'Tanya Gupta', 'Pradeep', 'Tushar', 'Mohit', 'Aman Kumar']\n",
      "['Pratham', 'Muskan', 'Tanya Gupta']\n"
     ]
    }
   ],
   "source": [
    "# Write a Program to perform slicing on List.\n",
    "students = [\"Aman Kumar\",\"Mohit\",\"Tushar\",\"Pradeep\",\"Tanya Gupta\",\"Muskan\",\"Pratham\"]\n",
    "print(students[0])\n",
    "print(students[-1])\n",
    "print(students[0:3])\n",
    "print(students[:2])\n",
    "print(students[::2])\n",
    "print(students[::-1])\n",
    "print(students[-1:-4:-1])"
   ]
  },
  {
   "cell_type": "code",
   "execution_count": 3,
   "id": "75b33cd9",
   "metadata": {
    "scrolled": true
   },
   "outputs": [
    {
     "name": "stdout",
     "output_type": "stream",
     "text": [
      "Aman Kumar\n",
      "Mohit\n",
      "Tushar\n",
      "Pradeep\n",
      "Tanya Gupta\n",
      "Muskan\n",
      "Pratham\n",
      "Aman Kumar\n",
      "Mohit\n",
      "Tushar\n",
      "Pradeep\n",
      "Tanya Gupta\n",
      "Muskan\n",
      "Pratham\n",
      "Aman Kumar\n",
      "Mohit\n",
      "Tushar\n",
      "Pradeep\n",
      "Tanya Gupta\n",
      "Muskan\n",
      "Pratham\n",
      "Aman Kumar\n",
      "Mohit\n",
      "Tushar\n",
      "Pradeep\n",
      "Tanya Gupta\n",
      "Muskan\n",
      "Pratham\n"
     ]
    },
    {
     "data": {
      "text/plain": [
       "[None, None, None, None, None, None, None]"
      ]
     },
     "execution_count": 3,
     "metadata": {},
     "output_type": "execute_result"
    }
   ],
   "source": [
    "# Write a Program to perform iteration on List.\n",
    "student= [\"Aman Kumar\",\"Mohit\",\"Tushar\",\"Pradeep\",\"Tanya Gupta\",\"Muskan\",\"Pratham\"]\n",
    "\n",
    "#Iteration Using For Loop\n",
    "for i in student:\n",
    "    print(i)\n",
    "\n",
    "#Iteration Using For Loop with Range and Length function\n",
    "for i in range(len(student)):\n",
    "    print(student[i])\n",
    "\n",
    "\n",
    "#Iteration Using While Loop\n",
    "i=0\n",
    "while(i<len(student)):\n",
    "    print(student[i])\n",
    "    i+=1\n",
    "\n",
    "#Using Short-Hand For Loop\n",
    "[print(i) for i in student]\n"
   ]
  },
  {
   "cell_type": "code",
   "execution_count": 4,
   "id": "3e42b18b",
   "metadata": {},
   "outputs": [
    {
     "name": "stdout",
     "output_type": "stream",
     "text": [
      "['Thor', 'Hulk', 'Ironman', 'Captian America']\n",
      "4\n",
      "1\n",
      "['Thor', 'Hulk', 'Ironman', 'Captian America', 'Spiderman']\n",
      "['Thor', 'Superman', 'Hulk', 'Ironman', 'Captian America', 'Spiderman']\n",
      "['Thor', 'Superman', 'Ironman', 'Captian America', 'Spiderman']\n",
      "['Thor', 'Superman', 'Ironman', 'Spiderman']\n"
     ]
    }
   ],
   "source": [
    "# List Out all the function of List\n",
    "a = [\"Thor\", \"Hulk\", \"Ironman\", \"Captian America\"]\n",
    "print(a)\n",
    "\n",
    "# to find the length of a list\n",
    "print(len(a))\n",
    "\n",
    "# to count an occurence of a particular element\n",
    "print(a.count(\"Thor\"))\n",
    "\n",
    "# to add to the list\n",
    "a.append(\"Spiderman\")\n",
    "print(a)\n",
    "\n",
    "# to add to a specific location\n",
    "a.insert(1,\"Superman\")\n",
    "print(a)\n",
    "\n",
    "# to remove from a list\n",
    "a.remove(\"Hulk\")\n",
    "print(a)\n",
    "\n",
    "# to remove from a certain location\n",
    "a.pop(-2)\n",
    "print(a)"
   ]
  },
  {
   "cell_type": "code",
   "execution_count": 5,
   "id": "042ec36c",
   "metadata": {},
   "outputs": [
    {
     "name": "stdout",
     "output_type": "stream",
     "text": [
      "['Thor', 'Hulk', 'Ironman', 'Captain America']\n",
      "1\n",
      "['Thor', 'Hulk', 'Ironman', 'Captain America', 'Spiderman', 'Superman']\n",
      "['Superman', 'Spiderman', 'Captain America', 'Ironman', 'Hulk', 'Thor']\n",
      "['Captain America', 'Hulk', 'Ironman', 'Spiderman', 'Superman', 'Thor']\n",
      "[]\n"
     ]
    }
   ],
   "source": [
    "# List Out all the function of List\n",
    "a = [\"Thor\", \"Hulk\", \"Ironman\", \"Captain America\"]\n",
    "\n",
    "#to create a copy of a list\n",
    "b=a.copy()\n",
    "print(b)\n",
    "\n",
    "#to access an element\n",
    "print(a.index(\"Hulk\"))\n",
    "\n",
    "#to entend the list\n",
    "c=[\"Spiderman\",\"Superman\"]\n",
    "a.extend(c)\n",
    "print(a)\n",
    "\n",
    "#to reverse the list\n",
    "a.reverse()\n",
    "print(a)\n",
    "\n",
    "#to sort the list\n",
    "a.sort()\n",
    "print(a)\n",
    "\n",
    "#to clear allthe data from the list\n",
    "a.clear()\n",
    "print(a)"
   ]
  },
  {
   "cell_type": "code",
   "execution_count": 6,
   "id": "83fe3d85",
   "metadata": {},
   "outputs": [
    {
     "name": "stdout",
     "output_type": "stream",
     "text": [
      "10\n",
      "20\n",
      "30\n",
      "40\n",
      "50\n",
      "60\n",
      "70\n",
      "[10, 20, 30, 40, 50, 60, 70] [10, 20, 30, 40, 50, 60, 70]\n",
      "[10, 20, 30, 40, 50, 60, 70]\n",
      "[10, 20, 30, 40, 50, 60, 70] \n",
      " [10, 20, 30, 40, 50, 60, 70, 50, 60, 70]\n",
      "[50, 60, 70]\n"
     ]
    }
   ],
   "source": [
    "# Write a Program to perform List comprehension on List.\n",
    "L1=[10,20,30,40,50,60,70]\n",
    "L2=[]\n",
    "for i in L1:\n",
    "    print(i)    \n",
    "    L2.append(i)\n",
    "print(L1,L2)\n",
    "\n",
    "#it is long metohod thatswhy we use list comphersnsion method\n",
    "L3=[i for i in L2]\n",
    "print(L3)\n",
    "\n",
    "\n",
    "\n",
    "# using condition\n",
    "\n",
    "for i in L1:\n",
    "    if i>=45:\n",
    "        L2.append(i)\n",
    "print(L1,\"\\n\",L2)\n",
    "                               ####################################################\n",
    "L3=[i for i in L1 if i>40]\n",
    "print(L3)"
   ]
  },
  {
   "cell_type": "code",
   "execution_count": 7,
   "id": "166e08cd",
   "metadata": {},
   "outputs": [
    {
     "name": "stdout",
     "output_type": "stream",
     "text": [
      "['Joe', 'Rachel', 'Monica', 'Ross']\n",
      "['Joe', 'Aman', 'Rachel', 'Monica', 'Ross']\n",
      "['Joe', 'Aman', 'Monica', 'Ross']\n",
      "10920\n",
      "13\n",
      "7\n"
     ]
    }
   ],
   "source": [
    "A= [\"Ross\", \"Rachel\", \"Monica\", \"Joe\"]\n",
    "\n",
    "# 1. Write a program to swap first and forth element.\n",
    "A[0],A[3] =A[3],A[0]\n",
    "print(A)\n",
    "\n",
    "# 2. Write a program to add a new value at second position.\n",
    "A.insert(1,\"Aman\")\n",
    "print(A)\n",
    "\n",
    "# 3. Write a program to delete a value from 3rd position.\n",
    "A.pop(2)\n",
    "print(A)\n",
    "\n",
    "B = [13,7,12,10]\n",
    "\n",
    "# 1. Write a program to multiply all the numbers in the list.\n",
    "mul=1\n",
    "for i in B:\n",
    "    mul*=i\n",
    "print(mul)\n",
    "\n",
    "\n",
    "# 2. Write a program to get the largest number from the list.\n",
    "B.sort()\n",
    "print(B[-1])\n",
    "\n",
    "\n",
    "# 3. Write a program to get the smallest number from the list\n",
    "B.sort()\n",
    "print(B[0])\n"
   ]
  }
 ],
 "metadata": {
  "kernelspec": {
   "display_name": "Python 3 (ipykernel)",
   "language": "python",
   "name": "python3"
  },
  "language_info": {
   "codemirror_mode": {
    "name": "ipython",
    "version": 3
   },
   "file_extension": ".py",
   "mimetype": "text/x-python",
   "name": "python",
   "nbconvert_exporter": "python",
   "pygments_lexer": "ipython3",
   "version": "3.11.5"
  }
 },
 "nbformat": 4,
 "nbformat_minor": 5
}
